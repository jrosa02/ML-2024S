{
 "cells": [
  {
   "cell_type": "code",
   "execution_count": 16,
   "metadata": {},
   "outputs": [],
   "source": [
    "import csv\n",
    "import numpy as np\n",
    "import matplotlib.pyplot as plt\n",
    "from sklearn.preprocessing import StandardScaler\n",
    "from sklearn.preprocessing import PolynomialFeatures\n",
    "\n",
    "\n",
    "with open(\"lin_reg_training.csv\", \"r\") as file:\n",
    "    reader_data = csv.reader(file, delimiter = ',')\n",
    "    data = np.array([[float(number) for number in row] for row in reader_data])\n",
    "    y_train = data[:, 1]\n",
    "    x_train = data[:, 0]\n",
    "    x_train = x_train.reshape(1, -1)\n",
    "    y_train = y_train.reshape(1, -1)\n",
    "\n",
    "with open(\"lin_reg_training.csv\", \"r\") as file:\n",
    "    reader_data = csv.reader(file, delimiter = ',')\n",
    "    data = np.array([[float(number) for number in row] for row in reader_data])\n",
    "    y_test = data[:, 1]\n",
    "    x_test = data[:, 0]\n",
    "    x_test = x_test.reshape(1, -1)\n",
    "    y_test = y_test.reshape(1, -1)"
   ]
  },
  {
   "cell_type": "code",
   "execution_count": 17,
   "metadata": {},
   "outputs": [
    {
     "data": {
      "text/plain": [
       "<matplotlib.collections.PathCollection at 0x1ccdc6cd450>"
      ]
     },
     "execution_count": 17,
     "metadata": {},
     "output_type": "execute_result"
    },
    {
     "data": {
      "image/png": "[encoded data removed]",
      "text/plain": [
       "<Figure size 640x480 with 1 Axes>"
      ]
     },
     "metadata": {},
     "output_type": "display_data"
    }
   ],
   "source": [
    "plt.scatter(x_train, y_train)"
   ]
  },
  {
   "cell_type": "code",
   "execution_count": 22,
   "metadata": {},
   "outputs": [],
   "source": [
    "standard_scaler = StandardScaler()\n",
    "standard_scaler.fit(x_train.T)\n",
    "x_train_scaled = standard_scaler.transform(x_train.T)\n",
    "x_test_scaled = standard_scaler.transform(x_test.T)"
   ]
  },
  {
   "cell_type": "code",
   "execution_count": 23,
   "metadata": {},
   "outputs": [
    {
     "name": "stdout",
     "output_type": "stream",
     "text": [
      "(array([[ 272.90556299],\n",
      "       [  93.83130806],\n",
      "       [ -17.91910796],\n",
      "       [ 280.10870767],\n",
      "       [ 164.10007486],\n",
      "       [-123.2160235 ],\n",
      "       [ -68.39777719]]), 58.34214799097505)\n"
     ]
    }
   ],
   "source": [
    "poly_features = PolynomialFeatures(degree=6)\n",
    "x_train_poly = poly_features.fit_transform(x_train_scaled)\n",
    "x_test_poly = poly_features.fit_transform(x_test_scaled)\n",
    "\n",
    "def h_fun(X, theta):\n",
    "    '''\n",
    "    :param X: ndarray postaci (n+1, m).\n",
    "    :param theta: macierz parametrów do optymalizacji postaci (n+1, 1)\n",
    "    :return: \n",
    "    '''\n",
    "    return theta.T @ X # przykładowa realizacja, @ - mnożenie macierzowe\n",
    "\n",
    "def calculate_cost(X, y, theta):\n",
    "    '''\n",
    "    :param X: ndarray postaci (n+1, m).\n",
    "    :param y: ndarray z wartościami referencyjnymi o wymiarze (1, m)\n",
    "    :param theta: macierz parametrów do optymalizacji postaci (n+1, 1)\n",
    "    :return: wartość f. kosztu\n",
    "    '''\n",
    "    m = X.shape[1]\n",
    "    return 1/(2*m)*np.sum(np.square((h_fun(X, theta) - y)))\n",
    "\n",
    "def get_line(X, y, theta = np.array([[0], [0]]), eps = 1e-5, alpha = 0.001):\n",
    "    prev_cost = calculate_cost(X, y, theta)\n",
    "    m = X.shape[1]\n",
    "\n",
    "    while(1):\n",
    "        h_y_diff = (h_fun(X, theta) - y)\n",
    "        gradient = h_y_diff @ X.T\n",
    "        theta = theta - (alpha/m) * gradient.T\n",
    "        cost = calculate_cost(X, y, theta)\n",
    "        if np.abs(cost - prev_cost) < eps:\n",
    "            return (theta, cost)\n",
    "        else:\n",
    "            prev_cost = cost\n",
    "\n",
    "(theta, cost) = get_line(x_train_poly.T, y_train, theta=np.array([[0], [0], [0], [0], [0], [0], [0]]))\n",
    "print((theta, cost))"
   ]
  }
 ],
 "metadata": {
  "kernelspec": {
   "display_name": "Python 3",
   "language": "python",
   "name": "python3"
  },
  "language_info": {
   "codemirror_mode": {
    "name": "ipython",
    "version": 3
   },
   "file_extension": ".py",
   "mimetype": "text/x-python",
   "name": "python",
   "nbconvert_exporter": "python",
   "pygments_lexer": "ipython3",
   "version": "3.10.11"
  }
 },
 "nbformat": 4,
 "nbformat_minor": 2
}
