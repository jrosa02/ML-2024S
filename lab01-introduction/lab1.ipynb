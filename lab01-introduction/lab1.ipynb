{
 "cells": [
  {
   "cell_type": "markdown",
   "metadata": {},
   "source": [
    "# Introduction Python\n",
    "### Setup"
   ]
  },
  {
   "cell_type": "code",
   "execution_count": 1,
   "metadata": {},
   "outputs": [],
   "source": [
    "from sklearn.datasets import load_iris\n",
    "import pandas as pd\n",
    "import numpy as np\n",
    "import matplotlib.pyplot as plt\n",
    "# load the famous iris data\n",
    "irisRaw = load_iris()\n",
    " \n",
    "#Convert data to Panda package\n",
    "# read iris.data into a pandas DataFrame (df), including column names\n",
    "iris = pd.DataFrame(data= np.c_[irisRaw['data'], irisRaw['target']],\n",
    "                     columns= irisRaw['feature_names'] + ['target'])"
   ]
  },
  {
   "cell_type": "markdown",
   "metadata": {},
   "source": [
    "##### 1."
   ]
  },
  {
   "cell_type": "code",
   "execution_count": 2,
   "metadata": {},
   "outputs": [
    {
     "name": "stdout",
     "output_type": "stream",
     "text": [
      "     sepal length (cm)  sepal width (cm)  petal length (cm)  petal width (cm)  \\\n",
      "0                  5.1               3.5                1.4               0.2   \n",
      "1                  4.9               3.0                1.4               0.2   \n",
      "2                  4.7               3.2                1.3               0.2   \n",
      "3                  4.6               3.1                1.5               0.2   \n",
      "4                  5.0               3.6                1.4               0.2   \n",
      "..                 ...               ...                ...               ...   \n",
      "145                6.7               3.0                5.2               2.3   \n",
      "146                6.3               2.5                5.0               1.9   \n",
      "147                6.5               3.0                5.2               2.0   \n",
      "148                6.2               3.4                5.4               2.3   \n",
      "149                5.9               3.0                5.1               1.8   \n",
      "\n",
      "     target  \n",
      "0       0.0  \n",
      "1       0.0  \n",
      "2       0.0  \n",
      "3       0.0  \n",
      "4       0.0  \n",
      "..      ...  \n",
      "145     2.0  \n",
      "146     2.0  \n",
      "147     2.0  \n",
      "148     2.0  \n",
      "149     2.0  \n",
      "\n",
      "[150 rows x 5 columns]\n"
     ]
    }
   ],
   "source": [
    "print(iris)"
   ]
  },
  {
   "cell_type": "markdown",
   "metadata": {},
   "source": [
    "##### 2."
   ]
  },
  {
   "cell_type": "code",
   "execution_count": 3,
   "metadata": {},
   "outputs": [
    {
     "name": "stdout",
     "output_type": "stream",
     "text": [
      "(150, 5)\n"
     ]
    }
   ],
   "source": [
    "print(iris.shape)"
   ]
  },
  {
   "cell_type": "markdown",
   "metadata": {},
   "source": [
    "##### 3."
   ]
  },
  {
   "cell_type": "code",
   "execution_count": 4,
   "metadata": {},
   "outputs": [
    {
     "name": "stdout",
     "output_type": "stream",
     "text": [
      "       sepal length (cm)  sepal width (cm)  petal length (cm)  \\\n",
      "count         150.000000        150.000000         150.000000   \n",
      "mean            5.843333          3.057333           3.758000   \n",
      "std             0.828066          0.435866           1.765298   \n",
      "min             4.300000          2.000000           1.000000   \n",
      "25%             5.100000          2.800000           1.600000   \n",
      "50%             5.800000          3.000000           4.350000   \n",
      "75%             6.400000          3.300000           5.100000   \n",
      "max             7.900000          4.400000           6.900000   \n",
      "\n",
      "       petal width (cm)      target  \n",
      "count        150.000000  150.000000  \n",
      "mean           1.199333    1.000000  \n",
      "std            0.762238    0.819232  \n",
      "min            0.100000    0.000000  \n",
      "25%            0.300000    0.000000  \n",
      "50%            1.300000    1.000000  \n",
      "75%            1.800000    2.000000  \n",
      "max            2.500000    2.000000  \n",
      "                  sepal width (cm)                                        \\\n",
      "                             count      mean       std  min    25%   50%   \n",
      "sepal length (cm)                                                          \n",
      "4.3                            1.0  3.000000       NaN  3.0  3.000  3.00   \n",
      "4.4                            3.0  3.033333  0.152753  2.9  2.950  3.00   \n",
      "4.5                            1.0  2.300000       NaN  2.3  2.300  2.30   \n",
      "4.6                            4.0  3.325000  0.221736  3.1  3.175  3.30   \n",
      "4.7                            2.0  3.200000  0.000000  3.2  3.200  3.20   \n",
      "4.8                            5.0  3.180000  0.204939  3.0  3.000  3.10   \n",
      "4.9                            6.0  2.950000  0.441588  2.4  2.625  3.05   \n",
      "5.0                           10.0  3.120000  0.543241  2.0  3.050  3.35   \n",
      "5.1                            9.0  3.477778  0.411636  2.5  3.400  3.50   \n",
      "5.2                            4.0  3.425000  0.573730  2.7  3.225  3.45   \n",
      "5.3                            1.0  3.700000       NaN  3.7  3.700  3.70   \n",
      "5.4                            6.0  3.550000  0.350714  3.0  3.400  3.55   \n",
      "5.5                            7.0  2.842857  0.723089  2.3  2.400  2.50   \n",
      "5.6                            6.0  2.816667  0.194079  2.5  2.725  2.85   \n",
      "5.7                            8.0  3.100000  0.656832  2.5  2.750  2.85   \n",
      "5.8                            7.0  2.885714  0.494734  2.6  2.700  2.70   \n",
      "5.9                            3.0  3.066667  0.115470  3.0  3.000  3.00   \n",
      "6.0                            6.0  2.733333  0.471876  2.2  2.325  2.80   \n",
      "6.1                            6.0  2.850000  0.151658  2.6  2.800  2.85   \n",
      "6.2                            4.0  2.825000  0.492443  2.2  2.650  2.85   \n",
      "6.3                            9.0  2.855556  0.400347  2.3  2.500  2.80   \n",
      "6.4                            7.0  2.957143  0.207020  2.7  2.800  2.90   \n",
      "6.5                            5.0  3.000000  0.141421  2.8  3.000  3.00   \n",
      "6.6                            2.0  2.950000  0.070711  2.9  2.925  2.95   \n",
      "6.7                            8.0  3.050000  0.250713  2.5  3.000  3.10   \n",
      "6.8                            3.0  3.000000  0.200000  2.8  2.900  3.00   \n",
      "6.9                            4.0  3.125000  0.050000  3.1  3.100  3.10   \n",
      "7.0                            1.0  3.200000       NaN  3.2  3.200  3.20   \n",
      "7.1                            1.0  3.000000       NaN  3.0  3.000  3.00   \n",
      "7.2                            3.0  3.266667  0.305505  3.0  3.100  3.20   \n",
      "7.3                            1.0  2.900000       NaN  2.9  2.900  2.90   \n",
      "7.4                            1.0  2.800000       NaN  2.8  2.800  2.80   \n",
      "7.6                            1.0  3.000000       NaN  3.0  3.000  3.00   \n",
      "7.7                            4.0  3.050000  0.525991  2.6  2.750  2.90   \n",
      "7.9                            1.0  3.800000       NaN  3.8  3.800  3.80   \n",
      "\n",
      "                              petal length (cm)            ...  \\\n",
      "                     75%  max             count      mean  ...   \n",
      "sepal length (cm)                                          ...   \n",
      "4.3                3.000  3.0               1.0  1.100000  ...   \n",
      "4.4                3.100  3.2               3.0  1.333333  ...   \n",
      "4.5                2.300  2.3               1.0  1.300000  ...   \n",
      "4.6                3.450  3.6               4.0  1.325000  ...   \n",
      "4.7                3.200  3.2               2.0  1.450000  ...   \n",
      "4.8                3.400  3.4               5.0  1.580000  ...   \n",
      "4.9                3.100  3.6               6.0  2.266667  ...   \n",
      "5.0                3.475  3.6              10.0  1.840000  ...   \n",
      "5.1                3.800  3.8               9.0  1.722222  ...   \n",
      "5.2                3.650  4.1               4.0  2.075000  ...   \n",
      "5.3                3.700  3.7               1.0  1.500000  ...   \n",
      "5.4                3.850  3.9               6.0  2.033333  ...   \n",
      "5.5                3.050  4.2               7.0  3.228571  ...   \n",
      "5.6                2.975  3.0               6.0  4.200000  ...   \n",
      "5.7                3.200  4.4               8.0  3.587500  ...   \n",
      "5.8                2.750  4.0               7.0  4.071429  ...   \n",
      "5.9                3.100  3.2               3.0  4.700000  ...   \n",
      "6.0                2.975  3.4               6.0  4.650000  ...   \n",
      "6.1                2.975  3.0               6.0  4.750000  ...   \n",
      "6.2                3.025  3.4               4.0  4.750000  ...   \n",
      "6.3                3.300  3.4               9.0  5.133333  ...   \n",
      "6.4                3.150  3.2               7.0  5.157143  ...   \n",
      "6.5                3.000  3.2               5.0  5.240000  ...   \n",
      "6.6                2.975  3.0               2.0  4.500000  ...   \n",
      "6.7                3.150  3.3               8.0  5.262500  ...   \n",
      "6.8                3.100  3.2               3.0  5.400000  ...   \n",
      "6.9                3.125  3.2               4.0  5.275000  ...   \n",
      "7.0                3.200  3.2               1.0  4.700000  ...   \n",
      "7.1                3.000  3.0               1.0  5.900000  ...   \n",
      "7.2                3.400  3.6               3.0  5.966667  ...   \n",
      "7.3                2.900  2.9               1.0  6.300000  ...   \n",
      "7.4                2.800  2.8               1.0  6.100000  ...   \n",
      "7.6                3.000  3.0               1.0  6.600000  ...   \n",
      "7.7                3.200  3.8               4.0  6.600000  ...   \n",
      "7.9                3.800  3.8               1.0  6.400000  ...   \n",
      "\n",
      "                  petal width (cm)      target                                 \\\n",
      "                               75%  max  count      mean       std  min   25%   \n",
      "sepal length (cm)                                                               \n",
      "4.3                          0.100  0.1    1.0  0.000000       NaN  0.0  0.00   \n",
      "4.4                          0.200  0.2    3.0  0.000000  0.000000  0.0  0.00   \n",
      "4.5                          0.300  0.3    1.0  0.000000       NaN  0.0  0.00   \n",
      "4.6                          0.225  0.3    4.0  0.000000  0.000000  0.0  0.00   \n",
      "4.7                          0.200  0.2    2.0  0.000000  0.000000  0.0  0.00   \n",
      "4.8                          0.200  0.3    5.0  0.000000  0.000000  0.0  0.00   \n",
      "4.9                          0.800  1.7    6.0  0.500000  0.836660  0.0  0.00   \n",
      "5.0                          0.550  1.0   10.0  0.200000  0.421637  0.0  0.00   \n",
      "5.1                          0.400  1.1    9.0  0.111111  0.333333  0.0  0.00   \n",
      "5.2                          0.500  1.4    4.0  0.250000  0.500000  0.0  0.00   \n",
      "5.3                          0.200  0.2    1.0  0.000000       NaN  0.0  0.00   \n",
      "5.4                          0.400  1.5    6.0  0.166667  0.408248  0.0  0.00   \n",
      "5.5                          1.250  1.3    7.0  0.714286  0.487950  0.0  0.50   \n",
      "5.6                          1.450  2.0    6.0  1.166667  0.408248  1.0  1.00   \n",
      "5.7                          1.300  2.0    8.0  0.875000  0.640870  0.0  0.75   \n",
      "5.8                          1.900  2.4    7.0  1.285714  0.755929  0.0  1.00   \n",
      "5.9                          1.800  1.8    3.0  1.333333  0.577350  1.0  1.00   \n",
      "6.0                          1.600  1.8    6.0  1.333333  0.516398  1.0  1.00   \n",
      "6.1                          1.400  1.8    6.0  1.333333  0.516398  1.0  1.00   \n",
      "6.2                          1.925  2.3    4.0  1.500000  0.577350  1.0  1.00   \n",
      "6.3                          1.900  2.5    9.0  1.666667  0.500000  1.0  1.00   \n",
      "6.4                          2.150  2.3    7.0  1.714286  0.487950  1.0  1.50   \n",
      "6.5                          2.000  2.2    5.0  1.800000  0.447214  1.0  2.00   \n",
      "6.6                          1.375  1.4    2.0  1.000000  0.000000  1.0  1.00   \n",
      "6.7                          2.325  2.5    8.0  1.625000  0.517549  1.0  1.00   \n",
      "6.8                          2.200  2.3    3.0  1.666667  0.577350  1.0  1.50   \n",
      "6.9                          2.300  2.3    4.0  1.750000  0.500000  1.0  1.75   \n",
      "7.0                          1.400  1.4    1.0  1.000000       NaN  1.0  1.00   \n",
      "7.1                          2.100  2.1    1.0  2.000000       NaN  2.0  2.00   \n",
      "7.2                          2.150  2.5    3.0  2.000000  0.000000  2.0  2.00   \n",
      "7.3                          1.800  1.8    1.0  2.000000       NaN  2.0  2.00   \n",
      "7.4                          1.900  1.9    1.0  2.000000       NaN  2.0  2.00   \n",
      "7.6                          2.100  2.1    1.0  2.000000       NaN  2.0  2.00   \n",
      "7.7                          2.300  2.3    4.0  2.000000  0.000000  2.0  2.00   \n",
      "7.9                          2.000  2.0    1.0  2.000000       NaN  2.0  2.00   \n",
      "\n",
      "                                   \n",
      "                   50%   75%  max  \n",
      "sepal length (cm)                  \n",
      "4.3                0.0  0.00  0.0  \n",
      "4.4                0.0  0.00  0.0  \n",
      "4.5                0.0  0.00  0.0  \n",
      "4.6                0.0  0.00  0.0  \n",
      "4.7                0.0  0.00  0.0  \n",
      "4.8                0.0  0.00  0.0  \n",
      "4.9                0.0  0.75  2.0  \n",
      "5.0                0.0  0.00  1.0  \n",
      "5.1                0.0  0.00  1.0  \n",
      "5.2                0.0  0.25  1.0  \n",
      "5.3                0.0  0.00  0.0  \n",
      "5.4                0.0  0.00  1.0  \n",
      "5.5                1.0  1.00  1.0  \n",
      "5.6                1.0  1.00  2.0  \n",
      "5.7                1.0  1.00  2.0  \n",
      "5.8                1.0  2.00  2.0  \n",
      "5.9                1.0  1.50  2.0  \n",
      "6.0                1.0  1.75  2.0  \n",
      "6.1                1.0  1.75  2.0  \n",
      "6.2                1.5  2.00  2.0  \n",
      "6.3                2.0  2.00  2.0  \n",
      "6.4                2.0  2.00  2.0  \n",
      "6.5                2.0  2.00  2.0  \n",
      "6.6                1.0  1.00  1.0  \n",
      "6.7                2.0  2.00  2.0  \n",
      "6.8                2.0  2.00  2.0  \n",
      "6.9                2.0  2.00  2.0  \n",
      "7.0                1.0  1.00  1.0  \n",
      "7.1                2.0  2.00  2.0  \n",
      "7.2                2.0  2.00  2.0  \n",
      "7.3                2.0  2.00  2.0  \n",
      "7.4                2.0  2.00  2.0  \n",
      "7.6                2.0  2.00  2.0  \n",
      "7.7                2.0  2.00  2.0  \n",
      "7.9                2.0  2.00  2.0  \n",
      "\n",
      "[35 rows x 32 columns]\n"
     ]
    }
   ],
   "source": [
    "print(iris.describe())\n",
    "print(iris.groupby(by = \"sepal length (cm)\").describe())\n"
   ]
  },
  {
   "cell_type": "markdown",
   "metadata": {},
   "source": [
    "##### 4."
   ]
  },
  {
   "cell_type": "code",
   "execution_count": 5,
   "metadata": {},
   "outputs": [
    {
     "data": {
      "text/html": [
       "<div>\n",
       "<style scoped>\n",
       "    .dataframe tbody tr th:only-of-type {\n",
       "        vertical-align: middle;\n",
       "    }\n",
       "\n",
       "    .dataframe tbody tr th {\n",
       "        vertical-align: top;\n",
       "    }\n",
       "\n",
       "    .dataframe thead th {\n",
       "        text-align: right;\n",
       "    }\n",
       "</style>\n",
       "<table border=\"1\" class=\"dataframe\">\n",
       "  <thead>\n",
       "    <tr style=\"text-align: right;\">\n",
       "      <th></th>\n",
       "      <th>sepal length (cm)</th>\n",
       "      <th>sepal width (cm)</th>\n",
       "      <th>petal length (cm)</th>\n",
       "      <th>petal width (cm)</th>\n",
       "      <th>target</th>\n",
       "    </tr>\n",
       "  </thead>\n",
       "  <tbody>\n",
       "    <tr>\n",
       "      <th>0</th>\n",
       "      <td>5.1</td>\n",
       "      <td>3.5</td>\n",
       "      <td>1.4</td>\n",
       "      <td>0.2</td>\n",
       "      <td>0.0</td>\n",
       "    </tr>\n",
       "    <tr>\n",
       "      <th>1</th>\n",
       "      <td>4.9</td>\n",
       "      <td>3.0</td>\n",
       "      <td>1.4</td>\n",
       "      <td>0.2</td>\n",
       "      <td>0.0</td>\n",
       "    </tr>\n",
       "    <tr>\n",
       "      <th>2</th>\n",
       "      <td>4.7</td>\n",
       "      <td>3.2</td>\n",
       "      <td>1.3</td>\n",
       "      <td>0.2</td>\n",
       "      <td>0.0</td>\n",
       "    </tr>\n",
       "    <tr>\n",
       "      <th>3</th>\n",
       "      <td>4.6</td>\n",
       "      <td>3.1</td>\n",
       "      <td>1.5</td>\n",
       "      <td>0.2</td>\n",
       "      <td>0.0</td>\n",
       "    </tr>\n",
       "    <tr>\n",
       "      <th>4</th>\n",
       "      <td>5.0</td>\n",
       "      <td>3.6</td>\n",
       "      <td>1.4</td>\n",
       "      <td>0.2</td>\n",
       "      <td>0.0</td>\n",
       "    </tr>\n",
       "  </tbody>\n",
       "</table>\n",
       "</div>"
      ],
      "text/plain": [
       "   sepal length (cm)  sepal width (cm)  petal length (cm)  petal width (cm)  \\\n",
       "0                5.1               3.5                1.4               0.2   \n",
       "1                4.9               3.0                1.4               0.2   \n",
       "2                4.7               3.2                1.3               0.2   \n",
       "3                4.6               3.1                1.5               0.2   \n",
       "4                5.0               3.6                1.4               0.2   \n",
       "\n",
       "   target  \n",
       "0     0.0  \n",
       "1     0.0  \n",
       "2     0.0  \n",
       "3     0.0  \n",
       "4     0.0  "
      ]
     },
     "execution_count": 5,
     "metadata": {},
     "output_type": "execute_result"
    }
   ],
   "source": [
    "iris.head()"
   ]
  },
  {
   "cell_type": "markdown",
   "metadata": {},
   "source": [
    "##### 5."
   ]
  },
  {
   "cell_type": "code",
   "execution_count": 6,
   "metadata": {},
   "outputs": [
    {
     "data": {
      "text/html": [
       "<div>\n",
       "<style scoped>\n",
       "    .dataframe tbody tr th:only-of-type {\n",
       "        vertical-align: middle;\n",
       "    }\n",
       "\n",
       "    .dataframe tbody tr th {\n",
       "        vertical-align: top;\n",
       "    }\n",
       "\n",
       "    .dataframe thead th {\n",
       "        text-align: right;\n",
       "    }\n",
       "</style>\n",
       "<table border=\"1\" class=\"dataframe\">\n",
       "  <thead>\n",
       "    <tr style=\"text-align: right;\">\n",
       "      <th></th>\n",
       "      <th>sepal length (cm)</th>\n",
       "      <th>sepal width (cm)</th>\n",
       "      <th>petal length (cm)</th>\n",
       "      <th>petal width (cm)</th>\n",
       "      <th>target</th>\n",
       "    </tr>\n",
       "  </thead>\n",
       "  <tbody>\n",
       "    <tr>\n",
       "      <th>0</th>\n",
       "      <td>5.1</td>\n",
       "      <td>3.5</td>\n",
       "      <td>1.4</td>\n",
       "      <td>0.2</td>\n",
       "      <td>0.0</td>\n",
       "    </tr>\n",
       "    <tr>\n",
       "      <th>1</th>\n",
       "      <td>4.9</td>\n",
       "      <td>3.0</td>\n",
       "      <td>1.4</td>\n",
       "      <td>0.2</td>\n",
       "      <td>0.0</td>\n",
       "    </tr>\n",
       "    <tr>\n",
       "      <th>2</th>\n",
       "      <td>4.7</td>\n",
       "      <td>3.2</td>\n",
       "      <td>1.3</td>\n",
       "      <td>0.2</td>\n",
       "      <td>0.0</td>\n",
       "    </tr>\n",
       "    <tr>\n",
       "      <th>3</th>\n",
       "      <td>4.6</td>\n",
       "      <td>3.1</td>\n",
       "      <td>1.5</td>\n",
       "      <td>0.2</td>\n",
       "      <td>0.0</td>\n",
       "    </tr>\n",
       "    <tr>\n",
       "      <th>4</th>\n",
       "      <td>5.0</td>\n",
       "      <td>3.6</td>\n",
       "      <td>1.4</td>\n",
       "      <td>0.2</td>\n",
       "      <td>0.0</td>\n",
       "    </tr>\n",
       "    <tr>\n",
       "      <th>...</th>\n",
       "      <td>...</td>\n",
       "      <td>...</td>\n",
       "      <td>...</td>\n",
       "      <td>...</td>\n",
       "      <td>...</td>\n",
       "    </tr>\n",
       "    <tr>\n",
       "      <th>145</th>\n",
       "      <td>6.7</td>\n",
       "      <td>3.0</td>\n",
       "      <td>5.2</td>\n",
       "      <td>2.3</td>\n",
       "      <td>2.0</td>\n",
       "    </tr>\n",
       "    <tr>\n",
       "      <th>146</th>\n",
       "      <td>6.3</td>\n",
       "      <td>2.5</td>\n",
       "      <td>5.0</td>\n",
       "      <td>1.9</td>\n",
       "      <td>2.0</td>\n",
       "    </tr>\n",
       "    <tr>\n",
       "      <th>147</th>\n",
       "      <td>6.5</td>\n",
       "      <td>3.0</td>\n",
       "      <td>5.2</td>\n",
       "      <td>2.0</td>\n",
       "      <td>2.0</td>\n",
       "    </tr>\n",
       "    <tr>\n",
       "      <th>148</th>\n",
       "      <td>6.2</td>\n",
       "      <td>3.4</td>\n",
       "      <td>5.4</td>\n",
       "      <td>2.3</td>\n",
       "      <td>2.0</td>\n",
       "    </tr>\n",
       "    <tr>\n",
       "      <th>149</th>\n",
       "      <td>5.9</td>\n",
       "      <td>3.0</td>\n",
       "      <td>5.1</td>\n",
       "      <td>1.8</td>\n",
       "      <td>2.0</td>\n",
       "    </tr>\n",
       "  </tbody>\n",
       "</table>\n",
       "<p>150 rows × 5 columns</p>\n",
       "</div>"
      ],
      "text/plain": [
       "     sepal length (cm)  sepal width (cm)  petal length (cm)  petal width (cm)  \\\n",
       "0                  5.1               3.5                1.4               0.2   \n",
       "1                  4.9               3.0                1.4               0.2   \n",
       "2                  4.7               3.2                1.3               0.2   \n",
       "3                  4.6               3.1                1.5               0.2   \n",
       "4                  5.0               3.6                1.4               0.2   \n",
       "..                 ...               ...                ...               ...   \n",
       "145                6.7               3.0                5.2               2.3   \n",
       "146                6.3               2.5                5.0               1.9   \n",
       "147                6.5               3.0                5.2               2.0   \n",
       "148                6.2               3.4                5.4               2.3   \n",
       "149                5.9               3.0                5.1               1.8   \n",
       "\n",
       "     target  \n",
       "0       0.0  \n",
       "1       0.0  \n",
       "2       0.0  \n",
       "3       0.0  \n",
       "4       0.0  \n",
       "..      ...  \n",
       "145     2.0  \n",
       "146     2.0  \n",
       "147     2.0  \n",
       "148     2.0  \n",
       "149     2.0  \n",
       "\n",
       "[150 rows x 5 columns]"
      ]
     },
     "execution_count": 6,
     "metadata": {},
     "output_type": "execute_result"
    }
   ],
   "source": [
    "iris.dropna()\n",
    "# len iris.dropna() == len iris"
   ]
  },
  {
   "cell_type": "markdown",
   "metadata": {},
   "source": [
    "##### 6/7."
   ]
  },
  {
   "cell_type": "code",
   "execution_count": 7,
   "metadata": {},
   "outputs": [
    {
     "name": "stdout",
     "output_type": "stream",
     "text": [
      "     sepal length (cm)  sepal width (cm)  petal length (cm)  petal width (cm)  \\\n",
      "60                 5.0               2.0                3.5               1.0   \n",
      "62                 6.0               2.2                4.0               1.0   \n",
      "119                6.0               2.2                5.0               1.5   \n",
      "68                 6.2               2.2                4.5               1.5   \n",
      "41                 4.5               2.3                1.3               0.3   \n",
      "..                 ...               ...                ...               ...   \n",
      "16                 5.4               3.9                1.3               0.4   \n",
      "14                 5.8               4.0                1.2               0.2   \n",
      "32                 5.2               4.1                1.5               0.1   \n",
      "33                 5.5               4.2                1.4               0.2   \n",
      "15                 5.7               4.4                1.5               0.4   \n",
      "\n",
      "     target  \n",
      "60      1.0  \n",
      "62      1.0  \n",
      "119     2.0  \n",
      "68      1.0  \n",
      "41      0.0  \n",
      "..      ...  \n",
      "16      0.0  \n",
      "14      0.0  \n",
      "32      0.0  \n",
      "33      0.0  \n",
      "15      0.0  \n",
      "\n",
      "[150 rows x 5 columns]\n"
     ]
    }
   ],
   "source": [
    "print(iris.sort_values(by=\"sepal width (cm)\"))"
   ]
  },
  {
   "cell_type": "markdown",
   "metadata": {},
   "source": [
    "##### 8."
   ]
  },
  {
   "cell_type": "code",
   "execution_count": 8,
   "metadata": {},
   "outputs": [
    {
     "name": "stdout",
     "output_type": "stream",
     "text": [
      "22 1.0\n",
      "118 6.9\n"
     ]
    }
   ],
   "source": [
    "min_i = np.argmin(iris[\"petal length (cm)\"])\n",
    "min_v = iris[\"petal length (cm)\"][min_i]\n",
    "print(min_i, min_v)\n",
    "\n",
    "max_i = np.argmax(iris[\"petal length (cm)\"])\n",
    "max_v = iris[\"petal length (cm)\"][max_i]\n",
    "print(max_i, max_v)\n"
   ]
  },
  {
   "cell_type": "markdown",
   "metadata": {},
   "source": [
    "##### 9."
   ]
  },
  {
   "cell_type": "code",
   "execution_count": 9,
   "metadata": {},
   "outputs": [
    {
     "name": "stdout",
     "output_type": "stream",
     "text": [
      "1.7652982332594662\n",
      "0.7622376689603465\n",
      "0.828066127977863\n",
      "0.4358662849366982\n",
      "0.8192319205190405\n"
     ]
    }
   ],
   "source": [
    "print(iris[\"petal length (cm)\"].std())\n",
    "print(iris[\"petal width (cm)\"].std())\n",
    "print(iris[\"sepal length (cm)\"].std())\n",
    "print(iris[\"sepal width (cm)\"].std())\n",
    "print(iris[\"target\"].std())"
   ]
  },
  {
   "cell_type": "markdown",
   "metadata": {},
   "source": [
    "##### 10. Identify rows for which the length of the flower cup (sepal length) is greater than the average length (the whole set)"
   ]
  },
  {
   "cell_type": "code",
   "execution_count": 10,
   "metadata": {},
   "outputs": [
    {
     "data": {
      "text/html": [
       "<div>\n",
       "<style scoped>\n",
       "    .dataframe tbody tr th:only-of-type {\n",
       "        vertical-align: middle;\n",
       "    }\n",
       "\n",
       "    .dataframe tbody tr th {\n",
       "        vertical-align: top;\n",
       "    }\n",
       "\n",
       "    .dataframe thead th {\n",
       "        text-align: right;\n",
       "    }\n",
       "</style>\n",
       "<table border=\"1\" class=\"dataframe\">\n",
       "  <thead>\n",
       "    <tr style=\"text-align: right;\">\n",
       "      <th></th>\n",
       "      <th>sepal length (cm)</th>\n",
       "      <th>sepal width (cm)</th>\n",
       "      <th>petal length (cm)</th>\n",
       "      <th>petal width (cm)</th>\n",
       "      <th>target</th>\n",
       "    </tr>\n",
       "  </thead>\n",
       "  <tbody>\n",
       "    <tr>\n",
       "      <th>50</th>\n",
       "      <td>7.0</td>\n",
       "      <td>3.2</td>\n",
       "      <td>4.7</td>\n",
       "      <td>1.4</td>\n",
       "      <td>1.0</td>\n",
       "    </tr>\n",
       "    <tr>\n",
       "      <th>51</th>\n",
       "      <td>6.4</td>\n",
       "      <td>3.2</td>\n",
       "      <td>4.5</td>\n",
       "      <td>1.5</td>\n",
       "      <td>1.0</td>\n",
       "    </tr>\n",
       "    <tr>\n",
       "      <th>52</th>\n",
       "      <td>6.9</td>\n",
       "      <td>3.1</td>\n",
       "      <td>4.9</td>\n",
       "      <td>1.5</td>\n",
       "      <td>1.0</td>\n",
       "    </tr>\n",
       "    <tr>\n",
       "      <th>54</th>\n",
       "      <td>6.5</td>\n",
       "      <td>2.8</td>\n",
       "      <td>4.6</td>\n",
       "      <td>1.5</td>\n",
       "      <td>1.0</td>\n",
       "    </tr>\n",
       "    <tr>\n",
       "      <th>56</th>\n",
       "      <td>6.3</td>\n",
       "      <td>3.3</td>\n",
       "      <td>4.7</td>\n",
       "      <td>1.6</td>\n",
       "      <td>1.0</td>\n",
       "    </tr>\n",
       "  </tbody>\n",
       "</table>\n",
       "</div>"
      ],
      "text/plain": [
       "    sepal length (cm)  sepal width (cm)  petal length (cm)  petal width (cm)  \\\n",
       "50                7.0               3.2                4.7               1.4   \n",
       "51                6.4               3.2                4.5               1.5   \n",
       "52                6.9               3.1                4.9               1.5   \n",
       "54                6.5               2.8                4.6               1.5   \n",
       "56                6.3               3.3                4.7               1.6   \n",
       "\n",
       "    target  \n",
       "50     1.0  \n",
       "51     1.0  \n",
       "52     1.0  \n",
       "54     1.0  \n",
       "56     1.0  "
      ]
     },
     "execution_count": 10,
     "metadata": {},
     "output_type": "execute_result"
    }
   ],
   "source": [
    "avrg = iris[\"sepal length (cm)\"].mean()\n",
    "f_iris = iris[iris[\"sepal length (cm)\"] > avrg]\n",
    "f_iris.head()"
   ]
  },
  {
   "cell_type": "markdown",
   "metadata": {},
   "source": [
    "##### 11."
   ]
  },
  {
   "cell_type": "code",
   "execution_count": 12,
   "metadata": {},
   "outputs": [
    {
     "data": {
      "text/plain": [
       "target\n",
       "0.0    [[Axes(0.125,0.666111;0.336957x0.213889), Axes...\n",
       "1.0    [[Axes(0.125,0.666111;0.336957x0.213889), Axes...\n",
       "2.0    [[Axes(0.125,0.666111;0.336957x0.213889), Axes...\n",
       "dtype: object"
      ]
     },
     "execution_count": 12,
     "metadata": {},
     "output_type": "execute_result"
    },
    {
     "data": {
      "image/png": "[encoded data removed]",
      "text/plain": [
       "<Figure size 640x480 with 6 Axes>"
      ]
     },
     "metadata": {},
     "output_type": "display_data"
    },
    {
     "data": {
      "image/png": "[encoded data removed]",
      "text/plain": [
       "<Figure size 640x480 with 6 Axes>"
      ]
     },
     "metadata": {},
     "output_type": "display_data"
    },
    {
     "data": {
      "image/png": "[encoded data removed]",
      "text/plain": [
       "<Figure size 640x480 with 6 Axes>"
      ]
     },
     "metadata": {},
     "output_type": "display_data"
    }
   ],
   "source": [
    "# f, axes = plt.subplots(2, 2, sharey=True)\n",
    "\n",
    "# axes[0, 0].hist(iris[\"sepal length (cm)\"])\n",
    "# axes[0, 0].set_title(\"sepal length (cm)\")\n",
    "\n",
    "# axes[0, 1].hist(iris[\"sepal width (cm)\"])\n",
    "# axes[0, 1].set_title(\"sepal width (cm)\")\n",
    "\n",
    "# axes[1, 0].hist(iris[\"petal length (cm)\"])\n",
    "# axes[1, 0].set_title(\"petal length (cm)\")\n",
    "\n",
    "# axes[1, 1].hist(iris[\"petal width (cm)\"])\n",
    "# axes[1, 1].set_title(\"petal width (cm)\")\n",
    "\n",
    "iris_grpuo = iris.groupby(\"target\")\n",
    "iris_grpuo.hist()"
   ]
  }
 ],
 "metadata": {
  "kernelspec": {
   "display_name": "Python 3",
   "language": "python",
   "name": "python3"
  },
  "language_info": {
   "codemirror_mode": {
    "name": "ipython",
    "version": 3
   },
   "file_extension": ".py",
   "mimetype": "text/x-python",
   "name": "python",
   "nbconvert_exporter": "python",
   "pygments_lexer": "ipython3",
   "version": "3.10.11"
  }
 },
 "nbformat": 4,
 "nbformat_minor": 2
}
